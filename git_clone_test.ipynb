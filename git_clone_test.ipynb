{
  "nbformat": 4,
  "nbformat_minor": 0,
  "metadata": {
    "colab": {
      "name": "git_clone_test.ipynb",
      "provenance": [],
      "collapsed_sections": []
    },
    "kernelspec": {
      "name": "python3",
      "display_name": "Python 3"
    },
    "language_info": {
      "name": "python"
    }
  },
  "cells": [
    {
      "cell_type": "code",
      "execution_count": null,
      "metadata": {
        "id": "vSKT6_KbMZon"
      },
      "outputs": [],
      "source": [
        "#git clone test\n",
        "!git clone https://github.com/nayakanuj/toy_ml_project.git toy_ml_project"
      ]
    },
    {
      "cell_type": "code",
      "source": [
        "import os\n",
        "os.chdir('/content/toy_ml_project')\n",
        "!pwd"
      ],
      "metadata": {
        "id": "NFEWFjjaM62r"
      },
      "execution_count": null,
      "outputs": []
    },
    {
      "cell_type": "code",
      "source": [
        "!python train.py"
      ],
      "metadata": {
        "id": "SYynMEWDNN64"
      },
      "execution_count": null,
      "outputs": []
    },
    {
      "cell_type": "code",
      "source": [
        "!python evaluate.py"
      ],
      "metadata": {
        "id": "gscRnqJLNdEB"
      },
      "execution_count": null,
      "outputs": []
    }
  ]
}